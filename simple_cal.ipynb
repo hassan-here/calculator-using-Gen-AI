{
  "nbformat": 4,
  "nbformat_minor": 0,
  "metadata": {
    "colab": {
      "provenance": [],
      "authorship_tag": "ABX9TyO5uKnYZRhRm4K7kEStdNZB",
      "include_colab_link": true
    },
    "kernelspec": {
      "name": "python3",
      "display_name": "Python 3"
    },
    "language_info": {
      "name": "python"
    }
  },
  "cells": [
    {
      "cell_type": "markdown",
      "metadata": {
        "id": "view-in-github",
        "colab_type": "text"
      },
      "source": [
        "<a href=\"https://colab.research.google.com/github/hassan-here/calculator-using-Gen-AI/blob/main/simple_cal.ipynb\" target=\"_parent\"><img src=\"https://colab.research.google.com/assets/colab-badge.svg\" alt=\"Open In Colab\"/></a>"
      ]
    },
    {
      "cell_type": "code",
      "execution_count": 1,
      "metadata": {
        "colab": {
          "base_uri": "https://localhost:8080/"
        },
        "id": "3HktN0cioaw_",
        "outputId": "edf124d8-c2eb-4cee-ae9d-98411c17f3cc"
      },
      "outputs": [
        {
          "output_type": "stream",
          "name": "stdout",
          "text": [
            "Welcome to the Simple Calculator!\n",
            "Select the operation you'd like to perform:\n",
            "1. Addition\n",
            "2. Subtraction\n",
            "3. Multiplication\n",
            "4. Division\n",
            "Enter the number corresponding to the operation (1/2/3/4): 3\n",
            "Enter the first number: 5\n",
            "Enter the second number: 6\n",
            "The result of Multiplication is: 30.0\n"
          ]
        }
      ],
      "source": [
        "# Simple Calculator in Google Colab\n",
        "\n",
        "def calculator():\n",
        "    print(\"Welcome to the Simple Calculator!\")\n",
        "    print(\"Select the operation you'd like to perform:\")\n",
        "    print(\"1. Addition\")\n",
        "    print(\"2. Subtraction\")\n",
        "    print(\"3. Multiplication\")\n",
        "    print(\"4. Division\")\n",
        "\n",
        "    # Get the user's choice\n",
        "    choice = input(\"Enter the number corresponding to the operation (1/2/3/4): \")\n",
        "\n",
        "    # Check if the choice is valid\n",
        "    if choice in ['1', '2', '3', '4']:\n",
        "        # Get numbers from the user\n",
        "        try:\n",
        "            num1 = float(input(\"Enter the first number: \"))\n",
        "            num2 = float(input(\"Enter the second number: \"))\n",
        "        except ValueError:\n",
        "            print(\"Invalid input! Please enter numeric values.\")\n",
        "            return\n",
        "\n",
        "        # Perform the operation\n",
        "        if choice == '1':\n",
        "            result = num1 + num2\n",
        "            operation = \"Addition\"\n",
        "        elif choice == '2':\n",
        "            result = num1 - num2\n",
        "            operation = \"Subtraction\"\n",
        "        elif choice == '3':\n",
        "            result = num1 * num2\n",
        "            operation = \"Multiplication\"\n",
        "        elif choice == '4':\n",
        "            if num2 != 0:\n",
        "                result = num1 / num2\n",
        "                operation = \"Division\"\n",
        "            else:\n",
        "                print(\"Error! Division by zero is not allowed.\")\n",
        "                return\n",
        "\n",
        "        # Display the result\n",
        "        print(f\"The result of {operation} is: {result}\")\n",
        "    else:\n",
        "        print(\"Invalid choice! Please select a valid operation.\")\n",
        "\n",
        "# Run the calculator\n",
        "calculator()\n"
      ]
    }
  ]
}